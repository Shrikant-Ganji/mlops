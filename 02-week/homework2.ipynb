{
 "cells": [
  {
   "cell_type": "markdown",
   "id": "a080629d-327a-4e11-a6bd-4748a2537d89",
   "metadata": {},
   "source": [
    "**MLOps Zoom-Camp 2025 Homework 2**"
   ]
  },
  {
   "cell_type": "raw",
   "id": "e8232a74-26ce-478b-8a05-1a4653c54c7e",
   "metadata": {},
   "source": [
    "Homework URL: https://github.com/DataTalksClub/mlops-zoomcamp/blob/main/cohorts/2025/02-experiment-tracking/homework.md"
   ]
  },
  {
   "cell_type": "markdown",
   "id": "ee7eaebd-32bd-4162-a32a-e6d3e42e47c1",
   "metadata": {},
   "source": [
    "**1: Install MLflow and Check Version**"
   ]
  },
  {
   "cell_type": "code",
   "execution_count": 49,
   "id": "158a5ac5-79e9-4be5-babc-06d8d91c29f4",
   "metadata": {},
   "outputs": [
    {
     "name": "stdout",
     "output_type": "stream",
     "text": [
      "\n",
      "\u001b[1m[\u001b[0m\u001b[34;49mnotice\u001b[0m\u001b[1;39;49m]\u001b[0m\u001b[39;49m A new release of pip is available: \u001b[0m\u001b[31;49m23.0.1\u001b[0m\u001b[39;49m -> \u001b[0m\u001b[32;49m25.1.1\u001b[0m\n",
      "\u001b[1m[\u001b[0m\u001b[34;49mnotice\u001b[0m\u001b[1;39;49m]\u001b[0m\u001b[39;49m To update, run: \u001b[0m\u001b[32;49mpip install --upgrade pip\u001b[0m\n"
     ]
    },
    {
     "data": {
      "text/plain": [
       "'2.22.0'"
      ]
     },
     "execution_count": 49,
     "metadata": {},
     "output_type": "execute_result"
    }
   ],
   "source": [
    "!pip install mlflow --quiet\n",
    "import mlflow\n",
    "mlflow.__version__"
   ]
  },
  {
   "cell_type": "code",
   "execution_count": 46,
   "id": "48e940bc-fd23-41b8-8d34-38ebdfa3ce25",
   "metadata": {},
   "outputs": [
    {
     "name": "stdout",
     "output_type": "stream",
     "text": [
      "mlflow, version 2.22.0\n"
     ]
    }
   ],
   "source": [
    "!mlflow --version"
   ]
  },
  {
   "cell_type": "markdown",
   "id": "db15489c-dd88-4022-a534-1464defa25a3",
   "metadata": {},
   "source": [
    "**2: Preprocess Data**"
   ]
  },
  {
   "cell_type": "code",
   "execution_count": 9,
   "id": "0bc0d748-19c4-4f81-a22b-017238bef6c1",
   "metadata": {},
   "outputs": [],
   "source": [
    "# Q2: Preprocess the taxi data (downloaded manually from the link and saved in 'data/' folder)\n",
    "!python homework2/preprocess_data.py --raw_data_path ./data --dest_path ./output"
   ]
  },
  {
   "cell_type": "code",
   "execution_count": 10,
   "id": "03474643-b3e5-45e6-ae6c-5fa94d55ae99",
   "metadata": {},
   "outputs": [
    {
     "name": "stdout",
     "output_type": "stream",
     "text": [
      "Files in output folder: ['train.pkl', 'val.pkl', 'dv.pkl', 'test.pkl']\n",
      "Number of files: 4\n"
     ]
    }
   ],
   "source": [
    "import os\n",
    "\n",
    "output_files = os.listdir(\"./output\")\n",
    "print(\"Files in output folder:\", output_files)\n",
    "print(\"Number of files:\", len(output_files))"
   ]
  },
  {
   "cell_type": "markdown",
   "id": "4ba113a9-3724-415d-813f-36b46bf5d1ad",
   "metadata": {},
   "source": [
    "**3: Train model with autologging**"
   ]
  },
  {
   "cell_type": "code",
   "execution_count": 1,
   "id": "ad6238c8-b454-4171-93dd-d0dee2ba153a",
   "metadata": {},
   "outputs": [],
   "source": [
    "!python homework2/train.py"
   ]
  },
  {
   "cell_type": "code",
   "execution_count": 2,
   "id": "67139d70-f9dc-4806-9599-72bf6a6769a3",
   "metadata": {},
   "outputs": [
    {
     "data": {
      "text/markdown": [
       "### 🔧 Logged Parameters from Latest MLflow Run"
      ],
      "text/plain": [
       "<IPython.core.display.Markdown object>"
      ]
     },
     "metadata": {},
     "output_type": "display_data"
    },
    {
     "data": {
      "text/html": [
       "<div>\n",
       "<style scoped>\n",
       "    .dataframe tbody tr th:only-of-type {\n",
       "        vertical-align: middle;\n",
       "    }\n",
       "\n",
       "    .dataframe tbody tr th {\n",
       "        vertical-align: top;\n",
       "    }\n",
       "\n",
       "    .dataframe thead th {\n",
       "        text-align: right;\n",
       "    }\n",
       "</style>\n",
       "<table border=\"1\" class=\"dataframe\">\n",
       "  <thead>\n",
       "    <tr style=\"text-align: right;\">\n",
       "      <th></th>\n",
       "      <th>Parameter</th>\n",
       "      <th>Value</th>\n",
       "    </tr>\n",
       "  </thead>\n",
       "  <tbody>\n",
       "    <tr>\n",
       "      <th>0</th>\n",
       "      <td>max_features</td>\n",
       "      <td>1.0</td>\n",
       "    </tr>\n",
       "    <tr>\n",
       "      <th>1</th>\n",
       "      <td>n_estimators</td>\n",
       "      <td>100</td>\n",
       "    </tr>\n",
       "    <tr>\n",
       "      <th>2</th>\n",
       "      <td>monotonic_cst</td>\n",
       "      <td>None</td>\n",
       "    </tr>\n",
       "    <tr>\n",
       "      <th>3</th>\n",
       "      <td>max_leaf_nodes</td>\n",
       "      <td>None</td>\n",
       "    </tr>\n",
       "    <tr>\n",
       "      <th>4</th>\n",
       "      <td>bootstrap</td>\n",
       "      <td>True</td>\n",
       "    </tr>\n",
       "    <tr>\n",
       "      <th>5</th>\n",
       "      <td>warm_start</td>\n",
       "      <td>False</td>\n",
       "    </tr>\n",
       "    <tr>\n",
       "      <th>6</th>\n",
       "      <td>ccp_alpha</td>\n",
       "      <td>0.0</td>\n",
       "    </tr>\n",
       "    <tr>\n",
       "      <th>7</th>\n",
       "      <td>min_weight_fraction_leaf</td>\n",
       "      <td>0.0</td>\n",
       "    </tr>\n",
       "    <tr>\n",
       "      <th>8</th>\n",
       "      <td>criterion</td>\n",
       "      <td>squared_error</td>\n",
       "    </tr>\n",
       "    <tr>\n",
       "      <th>9</th>\n",
       "      <td>min_impurity_decrease</td>\n",
       "      <td>0.0</td>\n",
       "    </tr>\n",
       "    <tr>\n",
       "      <th>10</th>\n",
       "      <td>verbose</td>\n",
       "      <td>0</td>\n",
       "    </tr>\n",
       "    <tr>\n",
       "      <th>11</th>\n",
       "      <td>oob_score</td>\n",
       "      <td>False</td>\n",
       "    </tr>\n",
       "    <tr>\n",
       "      <th>12</th>\n",
       "      <td>n_jobs</td>\n",
       "      <td>None</td>\n",
       "    </tr>\n",
       "    <tr>\n",
       "      <th>13</th>\n",
       "      <td>max_samples</td>\n",
       "      <td>None</td>\n",
       "    </tr>\n",
       "    <tr>\n",
       "      <th>14</th>\n",
       "      <td>min_samples_leaf</td>\n",
       "      <td>1</td>\n",
       "    </tr>\n",
       "    <tr>\n",
       "      <th>15</th>\n",
       "      <td>random_state</td>\n",
       "      <td>0</td>\n",
       "    </tr>\n",
       "    <tr>\n",
       "      <th>16</th>\n",
       "      <td>max_depth</td>\n",
       "      <td>10</td>\n",
       "    </tr>\n",
       "    <tr>\n",
       "      <th>17</th>\n",
       "      <td>min_samples_split</td>\n",
       "      <td>2</td>\n",
       "    </tr>\n",
       "  </tbody>\n",
       "</table>\n",
       "</div>"
      ],
      "text/plain": [
       "                   Parameter          Value\n",
       "0               max_features            1.0\n",
       "1               n_estimators            100\n",
       "2              monotonic_cst           None\n",
       "3             max_leaf_nodes           None\n",
       "4                  bootstrap           True\n",
       "5                 warm_start          False\n",
       "6                  ccp_alpha            0.0\n",
       "7   min_weight_fraction_leaf            0.0\n",
       "8                  criterion  squared_error\n",
       "9      min_impurity_decrease            0.0\n",
       "10                   verbose              0\n",
       "11                 oob_score          False\n",
       "12                    n_jobs           None\n",
       "13               max_samples           None\n",
       "14          min_samples_leaf              1\n",
       "15              random_state              0\n",
       "16                 max_depth             10\n",
       "17         min_samples_split              2"
      ]
     },
     "metadata": {},
     "output_type": "display_data"
    }
   ],
   "source": [
    "import mlflow\n",
    "from mlflow.tracking import MlflowClient\n",
    "import pandas as pd\n",
    "from IPython.display import display, Markdown\n",
    "\n",
    "# Connect to MLflow and fetch latest run\n",
    "client = MlflowClient()\n",
    "experiment = client.get_experiment_by_name(\"Default\")\n",
    "latest_run = client.search_runs(experiment.experiment_id, order_by=[\"start_time DESC\"])[0]\n",
    "\n",
    "# Display all parameters\n",
    "params_df = pd.DataFrame(latest_run.data.params.items(), columns=[\"Parameter\", \"Value\"])\n",
    "display(Markdown(\"### 🔧 Logged Parameters from Latest MLflow Run\"))\n",
    "display(params_df)"
   ]
  },
  {
   "cell_type": "markdown",
   "id": "efa428d2-ef18-46b3-879b-76dca5fe840c",
   "metadata": {},
   "source": [
    "***4: Launch the tracking server locally***"
   ]
  },
  {
   "cell_type": "code",
   "execution_count": null,
   "id": "05572d7d-9480-46fc-b371-15bd2cbfe478",
   "metadata": {},
   "outputs": [
    {
     "name": "stdout",
     "output_type": "stream",
     "text": [
      "[2025-05-25 17:23:36 +0000] [58003] [INFO] Starting gunicorn 23.0.0\n",
      "[2025-05-25 17:23:36 +0000] [58003] [INFO] Listening at: http://0.0.0.0:5000 (58003)\n",
      "[2025-05-25 17:23:36 +0000] [58003] [INFO] Using worker: sync\n",
      "[2025-05-25 17:23:36 +0000] [58024] [INFO] Booting worker with pid: 58024\n",
      "[2025-05-25 17:23:36 +0000] [58031] [INFO] Booting worker with pid: 58031\n",
      "[2025-05-25 17:23:36 +0000] [58032] [INFO] Booting worker with pid: 58032\n",
      "[2025-05-25 17:23:36 +0000] [58033] [INFO] Booting worker with pid: 58033\n"
     ]
    }
   ],
   "source": [
    "!mlflow server --backend-store-uri sqlite:///mlflow.db --default-artifact-root ./artifacts --host 0.0.0.0 --port 5000"
   ]
  },
  {
   "cell_type": "markdown",
   "id": "a164b1d6-7982-45fa-bbab-74cd29975546",
   "metadata": {},
   "source": [
    "***5: Tune model hyperparameters***"
   ]
  },
  {
   "cell_type": "code",
   "execution_count": 45,
   "id": "6d78aaad-904a-445f-957b-35d60e6ee837",
   "metadata": {
    "scrolled": true
   },
   "outputs": [
    {
     "name": "stdout",
     "output_type": "stream",
     "text": [
      "🏃 View run nebulous-hog-879 at: http://127.0.0.1:5000/#/experiments/801647906052000601/runs/99c80f84be3a4f73a1c921fa6635396b\n",
      "\n",
      "🧪 View experiment at: http://127.0.0.1:5000/#/experiments/801647906052000601   \n",
      "\n",
      "🏃 View run nosy-croc-118 at: http://127.0.0.1:5000/#/experiments/801647906052000601/runs/b17c3d6c41e94bb2a5bcb67d425ee989\n",
      "\n",
      "🧪 View experiment at: http://127.0.0.1:5000/#/experiments/801647906052000601   \n",
      "\n",
      "🏃 View run useful-dolphin-633 at: http://127.0.0.1:5000/#/experiments/801647906052000601/runs/dc0126dd86714785a56b201a9101b31a\n",
      "\n",
      "🧪 View experiment at: http://127.0.0.1:5000/#/experiments/801647906052000601   \n",
      "\n",
      "🏃 View run righteous-pug-576 at: http://127.0.0.1:5000/#/experiments/801647906052000601/runs/0ee400b989ad409ba3126df01ed73ac6\n",
      "\n",
      "🧪 View experiment at: http://127.0.0.1:5000/#/experiments/801647906052000601   \n",
      "\n",
      "🏃 View run sincere-wasp-408 at: http://127.0.0.1:5000/#/experiments/801647906052000601/runs/abd6ed49824a4947a4aa82b2f3d22c24\n",
      "\n",
      "🧪 View experiment at: http://127.0.0.1:5000/#/experiments/801647906052000601   \n",
      "\n",
      "🏃 View run sincere-donkey-622 at: http://127.0.0.1:5000/#/experiments/801647906052000601/runs/ea75acecc28d46a593e535aea155b8af\n",
      "\n",
      "🧪 View experiment at: http://127.0.0.1:5000/#/experiments/801647906052000601   \n",
      "\n",
      "🏃 View run tasteful-toad-931 at: http://127.0.0.1:5000/#/experiments/801647906052000601/runs/558e1f3a591b41b9a6a3cfb8235752bf\n",
      "\n",
      "🧪 View experiment at: http://127.0.0.1:5000/#/experiments/801647906052000601   \n",
      "\n",
      "🏃 View run likeable-ram-639 at: http://127.0.0.1:5000/#/experiments/801647906052000601/runs/754d83e99ee24f538224b32f11ecf420\n",
      "\n",
      "🧪 View experiment at: http://127.0.0.1:5000/#/experiments/801647906052000601   \n",
      "\n",
      "🏃 View run silent-shark-554 at: http://127.0.0.1:5000/#/experiments/801647906052000601/runs/64b174f523544872b87b5c2a3ce7078a\n",
      "\n",
      "🧪 View experiment at: http://127.0.0.1:5000/#/experiments/801647906052000601   \n",
      "\n",
      "🏃 View run powerful-hound-784 at: http://127.0.0.1:5000/#/experiments/801647906052000601/runs/74e85efabeb24e589e31bfab3cf0de0a\n",
      "\n",
      "🧪 View experiment at: http://127.0.0.1:5000/#/experiments/801647906052000601   \n",
      "\n",
      "🏃 View run orderly-grub-786 at: http://127.0.0.1:5000/#/experiments/801647906052000601/runs/69da8b0ea30f47e6a74335f7226e2f76\n",
      "\n",
      "🧪 View experiment at: http://127.0.0.1:5000/#/experiments/801647906052000601   \n",
      "\n",
      "🏃 View run respected-asp-630 at: http://127.0.0.1:5000/#/experiments/801647906052000601/runs/b831a0d4c3f64b61a677dcea84808233\n",
      "\n",
      "🧪 View experiment at: http://127.0.0.1:5000/#/experiments/801647906052000601   \n",
      "\n",
      "🏃 View run bedecked-mare-964 at: http://127.0.0.1:5000/#/experiments/801647906052000601/runs/5bc67e9a4a834150a53f6d3b4ceb6bb8\n",
      "\n",
      "🧪 View experiment at: http://127.0.0.1:5000/#/experiments/801647906052000601   \n",
      "\n",
      "🏃 View run capricious-zebra-217 at: http://127.0.0.1:5000/#/experiments/801647906052000601/runs/4dcf3727c49445d5a8c9e35dee7d3691\n",
      "\n",
      "🧪 View experiment at: http://127.0.0.1:5000/#/experiments/801647906052000601   \n",
      "\n",
      "🏃 View run dazzling-gull-586 at: http://127.0.0.1:5000/#/experiments/801647906052000601/runs/5ff066b9443f453da3ee611c948c96d6\n",
      "\n",
      "🧪 View experiment at: http://127.0.0.1:5000/#/experiments/801647906052000601   \n",
      "\n",
      "100%|██████████| 15/15 [01:02<00:00,  4.16s/trial, best loss: 5.335419588556921]\n",
      "[<Run: data=<RunData: metrics={'rmse': 5.335419588556921}, params={'max_depth': '19',\n",
      " 'min_samples_leaf': '2',\n",
      " 'min_samples_split': '2',\n",
      " 'n_estimators': '11',\n",
      " 'random_state': '42'}, tags={'mlflow.runName': 'orderly-grub-786',\n",
      " 'mlflow.source.git.commit': '4ebeb82b1f702b8735f1f5a535d5758b04d02a98',\n",
      " 'mlflow.source.name': 'homework2/hpo.py',\n",
      " 'mlflow.source.type': 'LOCAL',\n",
      " 'mlflow.user': 'codespace'}>, info=<RunInfo: artifact_uri='mlflow-artifacts:/801647906052000601/69da8b0ea30f47e6a74335f7226e2f76/artifacts', end_time=1748192651521, experiment_id='801647906052000601', lifecycle_stage='active', run_id='69da8b0ea30f47e6a74335f7226e2f76', run_name='orderly-grub-786', run_uuid='69da8b0ea30f47e6a74335f7226e2f76', start_time=1748192648045, status='FINISHED', user_id='codespace'>, inputs=<RunInputs: dataset_inputs=[]>>]\n"
     ]
    }
   ],
   "source": [
    "!python homework2/hpo.py"
   ]
  },
  {
   "cell_type": "markdown",
   "id": "0e312104-075d-4bb1-8b89-ab47e41e41cd",
   "metadata": {},
   "source": [
    "***6: Promote the best model to the model registry***"
   ]
  },
  {
   "cell_type": "code",
   "execution_count": 48,
   "id": "e6363300-82a3-40f2-a87e-d94ba3db564a",
   "metadata": {},
   "outputs": [
    {
     "name": "stdout",
     "output_type": "stream",
     "text": [
      "🏃 View run enchanting-skink-953 at: http://127.0.0.1:5000/#/experiments/703961499435919867/runs/ff63be163da64eec8869a80398592bce\n",
      "🧪 View experiment at: http://127.0.0.1:5000/#/experiments/703961499435919867\n",
      "🏃 View run unruly-cow-806 at: http://127.0.0.1:5000/#/experiments/703961499435919867/runs/57d12e14f0ff497a9075ff18325bf122\n",
      "🧪 View experiment at: http://127.0.0.1:5000/#/experiments/703961499435919867\n",
      "🏃 View run skillful-snake-421 at: http://127.0.0.1:5000/#/experiments/703961499435919867/runs/36fcd6c78ed74a00986ff11fe591caa2\n",
      "🧪 View experiment at: http://127.0.0.1:5000/#/experiments/703961499435919867\n",
      "🏃 View run whimsical-ram-847 at: http://127.0.0.1:5000/#/experiments/703961499435919867/runs/7355b38a36d34250a406e8c48905ffa5\n",
      "🧪 View experiment at: http://127.0.0.1:5000/#/experiments/703961499435919867\n",
      "🏃 View run caring-ox-145 at: http://127.0.0.1:5000/#/experiments/703961499435919867/runs/52ab9bfe03e54a298aa05a7d319e3446\n",
      "🧪 View experiment at: http://127.0.0.1:5000/#/experiments/703961499435919867\n",
      "Successfully registered model 'RandomForestBestModel'.\n",
      "2025/05/25 17:17:48 INFO mlflow.store.model_registry.abstract_store: Waiting up to 300 seconds for model version to finish creation. Model name: RandomForestBestModel, version 1\n",
      "Created version '1' of model 'RandomForestBestModel'.\n",
      "Registered model 'RandomForestBestModel' from run ff63be163da64eec8869a80398592bce with test RMSE: 5.567408012462019\n"
     ]
    }
   ],
   "source": [
    "!python homework2/register_model.py"
   ]
  },
  {
   "cell_type": "code",
   "execution_count": null,
   "id": "9f6f9ddf-e27b-4709-a4e7-2eabd8436325",
   "metadata": {},
   "outputs": [],
   "source": []
  }
 ],
 "metadata": {
  "kernelspec": {
   "display_name": "Python 3 (ipykernel)",
   "language": "python",
   "name": "python3"
  },
  "language_info": {
   "codemirror_mode": {
    "name": "ipython",
    "version": 3
   },
   "file_extension": ".py",
   "mimetype": "text/x-python",
   "name": "python",
   "nbconvert_exporter": "python",
   "pygments_lexer": "ipython3",
   "version": "3.12.1"
  }
 },
 "nbformat": 4,
 "nbformat_minor": 5
}
