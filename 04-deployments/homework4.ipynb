{
 "cells": [
  {
   "cell_type": "code",
   "execution_count": 1,
   "id": "73848172-d0f2-4a1b-9a67-22b2597d1116",
   "metadata": {},
   "outputs": [
    {
     "name": "stdout",
     "output_type": "stream",
     "text": [
      "Requirement already satisfied: scikit-learn==1.5.0 in /opt/conda/envs/mlops3/lib/python3.10/site-packages (1.5.0)\n",
      "Requirement already satisfied: numpy>=1.19.5 in /opt/conda/envs/mlops3/lib/python3.10/site-packages (from scikit-learn==1.5.0) (2.0.1)\n",
      "Requirement already satisfied: scipy>=1.6.0 in /opt/conda/envs/mlops3/lib/python3.10/site-packages (from scikit-learn==1.5.0) (1.15.3)\n",
      "Requirement already satisfied: joblib>=1.2.0 in /opt/conda/envs/mlops3/lib/python3.10/site-packages (from scikit-learn==1.5.0) (1.4.2)\n",
      "Requirement already satisfied: threadpoolctl>=3.1.0 in /opt/conda/envs/mlops3/lib/python3.10/site-packages (from scikit-learn==1.5.0) (3.5.0)\n"
     ]
    }
   ],
   "source": [
    "!pip install scikit-learn==1.5.0"
   ]
  },
  {
   "cell_type": "code",
   "execution_count": 2,
   "id": "7fded4b3-84ee-4dbc-a55e-e2eba7b50fcb",
   "metadata": {},
   "outputs": [],
   "source": [
    "import pandas as pd\n",
    "import pickle\n",
    "from pathlib import Path\n",
    "from datetime import datetime\n",
    "from dateutil.relativedelta import relativedelta\n",
    "\n",
    "from sklearn.metrics import mean_squared_error"
   ]
  },
  {
   "cell_type": "code",
   "execution_count": 3,
   "id": "ef022113-d0cb-4ba6-8cb9-2059601f427a",
   "metadata": {},
   "outputs": [],
   "source": [
    "year = 2023\n",
    "month = 3"
   ]
  },
  {
   "cell_type": "code",
   "execution_count": 4,
   "id": "8a74d4bd-b921-4235-8619-d34390233b48",
   "metadata": {},
   "outputs": [],
   "source": [
    "# Generate input and output file names\n",
    "input_file = f'https://d37ci6vzurychx.cloudfront.net/trip-data/yellow_tripdata_{year:04d}-{month:02d}.parquet'\n",
    "output_file = Path(f'./output/yellow_tripdata_{year:04d}-{month:02d}.parquet')"
   ]
  },
  {
   "cell_type": "code",
   "execution_count": 5,
   "id": "c8aa8935-e1a5-4eca-bcb8-432db089fac7",
   "metadata": {},
   "outputs": [],
   "source": [
    "# Load the model\n",
    "with open('homework/model.bin', 'rb') as f_in:\n",
    "    dv, model = pickle.load(f_in)"
   ]
  },
  {
   "cell_type": "code",
   "execution_count": 6,
   "id": "8d072095-0dca-4028-bb17-ebcce8256701",
   "metadata": {},
   "outputs": [],
   "source": [
    "# Load data\n",
    "df = pd.read_parquet(input_file)\n",
    "\n",
    "# Preprocess\n",
    "df['duration'] = (df['tpep_dropoff_datetime'] - df['tpep_pickup_datetime']).dt.total_seconds() / 60\n",
    "df = df[(df['duration'] >= 1) & (df['duration'] <= 60)]\n",
    "\n",
    "categorical = ['PULocationID', 'DOLocationID']\n",
    "df[categorical] = df[categorical].astype(str)"
   ]
  },
  {
   "cell_type": "code",
   "execution_count": 7,
   "id": "3a358b30-b848-4e27-96cc-375657e4e9c7",
   "metadata": {},
   "outputs": [
    {
     "name": "stdout",
     "output_type": "stream",
     "text": [
      "Standard deviation of predictions: 6.25\n",
      "Mean predicted duration: 14.2\n",
      "RMSE: 8.25\n"
     ]
    }
   ],
   "source": [
    "# Prepare dicts for model\n",
    "dicts = df[categorical].to_dict(orient='records')\n",
    "X_val = dv.transform(dicts)\n",
    "y_pred = model.predict(X_val)\n",
    "\n",
    "# Calculate metrics\n",
    "print(f\"Standard deviation of predictions: {round(y_pred.std(), 2)}\")\n",
    "print(f\"Mean predicted duration: {round(y_pred.mean(), 2)}\")\n",
    "from math import sqrt\n",
    "\n",
    "print(f\"RMSE: {round(sqrt(mean_squared_error(df['duration'], y_pred)), 2)}\")"
   ]
  },
  {
   "cell_type": "markdown",
   "id": "732b5c7b-8c64-4144-8d5e-dfb292ca30bd",
   "metadata": {},
   "source": [
    "**2: Preparing the output**"
   ]
  },
  {
   "cell_type": "code",
   "execution_count": 8,
   "id": "07a90c51-b8fe-4bd1-92df-7bf683d1335e",
   "metadata": {},
   "outputs": [],
   "source": [
    "df['ride_id'] = f'{year:04d}/{month:02d}_' + df.index.astype('str')"
   ]
  },
  {
   "cell_type": "code",
   "execution_count": 9,
   "id": "62300af7-bf6f-4003-be38-f91eafc8fb86",
   "metadata": {},
   "outputs": [],
   "source": [
    "df_result = pd.DataFrame()\n",
    "df_result['ride_id'] = df['ride_id']\n",
    "df_result['predicted_duration'] = y_pred"
   ]
  },
  {
   "cell_type": "code",
   "execution_count": 11,
   "id": "5095fe51-a15e-42ae-a276-573f770b4d72",
   "metadata": {},
   "outputs": [],
   "source": [
    "import os\n",
    "\n",
    "output_dir = 'output'\n",
    "os.makedirs(output_dir, exist_ok=True)\n",
    "\n",
    "output_file = 'output/predictions.parquet'\n",
    "\n",
    "df_result.to_parquet(\n",
    "    output_file,\n",
    "    engine='pyarrow',\n",
    "    compression=None,\n",
    "    index=False\n",
    ")"
   ]
  },
  {
   "cell_type": "code",
   "execution_count": 12,
   "id": "92e429ed-a0b8-497f-b7d4-402c86f9753c",
   "metadata": {},
   "outputs": [
    {
     "name": "stdout",
     "output_type": "stream",
     "text": [
      "65M\n"
     ]
    }
   ],
   "source": [
    "import os\n",
    "\n",
    "file_size = os.path.getsize(output_file) / (1024 * 1024)  # Convert bytes to MB\n",
    "print(f\"{file_size:.0f}M\")"
   ]
  },
  {
   "cell_type": "markdown",
   "id": "43946134-13b9-437c-9714-78af841b08cd",
   "metadata": {},
   "source": [
    "**3. Creating the scoring script**"
   ]
  },
  {
   "cell_type": "code",
   "execution_count": 13,
   "id": "c351bc85-2979-41b8-814a-db91af460b3d",
   "metadata": {},
   "outputs": [
    {
     "name": "stdout",
     "output_type": "stream",
     "text": [
      "[NbConvertApp] Converting notebook homework4.ipynb to script\n",
      "[NbConvertApp] Writing 2047 bytes to homework4.py\n"
     ]
    }
   ],
   "source": [
    "!jupyter nbconvert homework4.ipynb --to script"
   ]
  },
  {
   "cell_type": "markdown",
   "id": "47947f77-67d9-4725-beaf-7ce19966338f",
   "metadata": {},
   "source": [
    "**4. Virtual environment. Hash for Scikit-Learn**"
   ]
  },
  {
   "cell_type": "code",
   "execution_count": 15,
   "id": "2ad6fa50-495b-4641-a600-91572afb5cff",
   "metadata": {},
   "outputs": [
    {
     "name": "stdout",
     "output_type": "stream",
     "text": [
      "sha256:057b991ac64b3e75c9c04b5f9395eaf19a6179244c089afdebaad98264bff37c\n"
     ]
    }
   ],
   "source": [
    "import json\n",
    "with open('Pipfile.lock') as g:\n",
    "    j = json.loads(g.read())\n",
    "    print (j['default']['scikit-learn']['hashes'] [0])"
   ]
  },
  {
   "cell_type": "markdown",
   "id": "c8c9c5d2-0a95-498c-9e4e-73c74d61a06c",
   "metadata": {},
   "source": [
    "**5. Parametrize the script**"
   ]
  },
  {
   "cell_type": "code",
   "execution_count": 2,
   "id": "ddba2f7c-db45-49b4-8954-f0ad8e2b4282",
   "metadata": {},
   "outputs": [
    {
     "name": "stdout",
     "output_type": "stream",
     "text": [
      "Standard deviation of predictions: 6.35\n",
      "Mean predicted duration: 14.29\n",
      "RMSE: 8.44\n",
      "63M\n"
     ]
    }
   ],
   "source": [
    "!python homework4.py --year=2023 --month=4"
   ]
  },
  {
   "cell_type": "markdown",
   "id": "b3b40fc0-491f-495c-9007-5208506022d9",
   "metadata": {},
   "source": [
    "**6. Docker container**"
   ]
  },
  {
   "cell_type": "code",
   "execution_count": 6,
   "id": "793b3c10-3446-4436-be35-ebf835d1af8a",
   "metadata": {},
   "outputs": [
    {
     "name": "stdout",
     "output_type": "stream",
     "text": [
      "Standard deviation of predictions: 1.39\n",
      "Mean predicted duration: 0.19\n",
      "RMSE: 19.34\n",
      "67M\n"
     ]
    }
   ],
   "source": [
    "!docker run ride-duration-predictor --year=2023 --month=5"
   ]
  },
  {
   "cell_type": "code",
   "execution_count": null,
   "id": "d36a5a32-d11d-4896-bce7-7cf2272674a8",
   "metadata": {},
   "outputs": [],
   "source": []
  }
 ],
 "metadata": {
  "kernelspec": {
   "display_name": "Python 3 (ipykernel)",
   "language": "python",
   "name": "python3"
  },
  "language_info": {
   "codemirror_mode": {
    "name": "ipython",
    "version": 3
   },
   "file_extension": ".py",
   "mimetype": "text/x-python",
   "name": "python",
   "nbconvert_exporter": "python",
   "pygments_lexer": "ipython3",
   "version": "3.10.16"
  }
 },
 "nbformat": 4,
 "nbformat_minor": 5
}
