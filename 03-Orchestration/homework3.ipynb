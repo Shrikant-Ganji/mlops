{
 "cells": [
  {
   "cell_type": "markdown",
   "id": "10719c90-b5bc-49ce-b545-fe3fd193fd94",
   "metadata": {},
   "source": [
    "**Homework 3: Training Pipelines for MLOps Zoomcamp 2025**"
   ]
  },
  {
   "cell_type": "markdown",
   "id": "701200b9-86e4-4d8f-84ad-9fc164c9fc36",
   "metadata": {},
   "source": [
    "**1 & 2. Tool you use and Version**"
   ]
  },
  {
   "cell_type": "code",
   "execution_count": 1,
   "id": "14f68ce3-f4d8-4204-a8ab-c28aef9ae2a1",
   "metadata": {},
   "outputs": [
    {
     "name": "stdout",
     "output_type": "stream",
     "text": [
      "Version:             3.4.4\n",
      "API version:         0.8.4\n",
      "Python version:      3.10.16\n",
      "Git commit:          0367d7aa\n",
      "Built:               Thu, May 29, 2025 09:37 PM\n",
      "OS/Arch:             linux/x86_64\n",
      "Profile:             ephemeral\n",
      "Server type:         ephemeral\n",
      "Pydantic version:    2.11.5\n",
      "Server:\n",
      "  Database:          sqlite\n",
      "  SQLite version:    3.45.3\n"
     ]
    }
   ],
   "source": [
    "!prefect version"
   ]
  },
  {
   "cell_type": "markdown",
   "id": "d4b4dd98-564e-48a6-ae0c-464d9791580f",
   "metadata": {},
   "source": [
    "**Import the packages and set config**"
   ]
  },
  {
   "cell_type": "code",
   "execution_count": 2,
   "id": "c034ce24-fb12-4055-b5e6-c2bd7a2294a0",
   "metadata": {},
   "outputs": [],
   "source": [
    "import pandas as pd\n",
    "import numpy as np\n",
    "import mlflow\n",
    "import mlflow.sklearn\n",
    "from sklearn.feature_extraction import DictVectorizer\n",
    "from sklearn.linear_model import LinearRegression\n",
    "from sklearn.metrics import mean_squared_error\n",
    "import os"
   ]
  },
  {
   "cell_type": "markdown",
   "id": "8f021469-abd5-477b-9d75-929d600982ea",
   "metadata": {},
   "source": [
    "**3: Load March 2023 Yellow Taxi dataset**"
   ]
  },
  {
   "cell_type": "code",
   "execution_count": 3,
   "id": "dbcee8ce-0aa6-4987-bbd1-62e739bb4bea",
   "metadata": {},
   "outputs": [
    {
     "name": "stdout",
     "output_type": "stream",
     "text": [
      "✅ Loaded 3,403,766 records\n"
     ]
    }
   ],
   "source": [
    "# Load the parquet file\n",
    "url = \"https://d37ci6vzurychx.cloudfront.net/trip-data/yellow_tripdata_2023-03.parquet\"\n",
    "df = pd.read_parquet(url)\n",
    "\n",
    "print(f\"✅ Loaded {len(df):,} records\")"
   ]
  },
  {
   "cell_type": "markdown",
   "id": "55966264-dc49-4d0a-9a98-0c1382eaf49a",
   "metadata": {},
   "source": [
    "**4:Data preparation function**"
   ]
  },
  {
   "cell_type": "code",
   "execution_count": 4,
   "id": "c5d56695-0340-4ca7-89fc-69b574b7633a",
   "metadata": {},
   "outputs": [
    {
     "name": "stdout",
     "output_type": "stream",
     "text": [
      "✅ Data after preparation: 3,316,216 rows\n"
     ]
    }
   ],
   "source": [
    "def prepare_data(df):\n",
    "    df['duration'] = df.tpep_dropoff_datetime - df.tpep_pickup_datetime\n",
    "    df['duration'] = df['duration'].dt.total_seconds() / 60\n",
    "    \n",
    "    df = df[(df['duration'] >= 1) & (df['duration'] <= 60)].copy()  # 👈 Add .copy()\n",
    "\n",
    "    categorical = ['PULocationID', 'DOLocationID']\n",
    "    df[categorical] = df[categorical].astype(str)\n",
    "\n",
    "    return df\n",
    "\n",
    "# 👇 Assign df_clean BEFORE printing\n",
    "df_clean = prepare_data(df).copy()\n",
    "print(f\"✅ Data after preparation: {len(df_clean):,} rows\")"
   ]
  },
  {
   "cell_type": "markdown",
   "id": "4a30914d-8de8-40a9-9ed1-a2d043fdb613",
   "metadata": {},
   "source": [
    "**Feature Engineering and Split**"
   ]
  },
  {
   "cell_type": "code",
   "execution_count": 5,
   "id": "6e856ce1-b97d-46db-b7f9-bd976906ef48",
   "metadata": {},
   "outputs": [],
   "source": [
    "from sklearn.model_selection import train_test_split\n",
    "\n",
    "categorical = ['PULocationID', 'DOLocationID']\n",
    "df_clean['target'] = df_clean['duration']\n",
    "\n",
    "train_df, val_df = train_test_split(df_clean, test_size=0.2, random_state=42)\n",
    "\n",
    "def df_to_dict(df):\n",
    "    return df[categorical].to_dict(orient='records')\n",
    "\n",
    "X_train_dict = df_to_dict(train_df)\n",
    "X_val_dict = df_to_dict(val_df)\n",
    "\n",
    "dv = DictVectorizer()\n",
    "X_train = dv.fit_transform(X_train_dict)\n",
    "X_val = dv.transform(X_val_dict)\n",
    "\n",
    "y_train = train_df['target'].values\n",
    "y_val = val_df['target'].values"
   ]
  },
  {
   "cell_type": "markdown",
   "id": "26d42493-0cad-4194-86d7-f96e866f211a",
   "metadata": {},
   "source": [
    "**5:Train model and log with MLflow**"
   ]
  },
  {
   "cell_type": "code",
   "execution_count": 7,
   "id": "3c19faf8-626d-4df7-82e2-219187ab7c0a",
   "metadata": {},
   "outputs": [
    {
     "name": "stdout",
     "output_type": "stream",
     "text": [
      "✅ RMSE: 8.15\n",
      "✅ Intercept: 24.75\n"
     ]
    }
   ],
   "source": [
    "from sklearn.linear_model import LinearRegression\n",
    "from sklearn.metrics import mean_squared_error\n",
    "import mlflow\n",
    "import mlflow.sklearn\n",
    "from mlflow.models.signature import infer_signature\n",
    "import numpy as np\n",
    "\n",
    "mlflow.set_tracking_uri(\"sqlite:///mlflow.db\")\n",
    "mlflow.set_experiment(\"homework3-nyc-taxi\")\n",
    "\n",
    "with mlflow.start_run():\n",
    "    lr = LinearRegression()\n",
    "    lr.fit(X_train, y_train)\n",
    "\n",
    "    y_pred = lr.predict(X_val)\n",
    "    mse = mean_squared_error(y_val, y_pred)\n",
    "    rmse = np.sqrt(mse)\n",
    "\n",
    "    mlflow.log_param(\"model_type\", \"LinearRegression\")\n",
    "    mlflow.log_metric(\"rmse\", rmse)\n",
    "\n",
    "    signature = infer_signature(X_val, y_pred)\n",
    "    input_example = X_val[:1]\n",
    "\n",
    "    mlflow.sklearn.log_model(\n",
    "        sk_model=lr,\n",
    "        artifact_path=\"models\",\n",
    "        signature=signature,\n",
    "        input_example=input_example\n",
    "    )\n",
    "\n",
    "    print(f\"✅ RMSE: {rmse:.2f}\")\n",
    "    print(f\"✅ Intercept: {lr.intercept_:.2f}\")"
   ]
  },
  {
   "cell_type": "markdown",
   "id": "e144db70-c751-494e-9aa8-4ab53a088842",
   "metadata": {},
   "source": [
    "**Save DictVectorizer and Register the Model**"
   ]
  },
  {
   "cell_type": "code",
   "execution_count": 8,
   "id": "7e31de9e-47c6-446e-a2dc-1bbf1668eb68",
   "metadata": {},
   "outputs": [
    {
     "name": "stdout",
     "output_type": "stream",
     "text": [
      "✅ DictVectorizer saved and logged.\n"
     ]
    }
   ],
   "source": [
    "import pickle\n",
    "import pathlib\n",
    "\n",
    "output_dir = pathlib.Path(\"artifacts\")\n",
    "output_dir.mkdir(exist_ok=True)\n",
    "\n",
    "# Save dict vectorizer\n",
    "with open(output_dir / \"dv.pkl\", \"wb\") as f_out:\n",
    "    pickle.dump(dv, f_out)\n",
    "\n",
    "mlflow.log_artifact(str(output_dir / \"dv.pkl\"))\n",
    "\n",
    "print(\"✅ DictVectorizer saved and logged.\")"
   ]
  },
  {
   "cell_type": "markdown",
   "id": "1f74884b-31d3-494b-a260-6c6e2a86ae1e",
   "metadata": {},
   "source": [
    "**6: Find model size in MLmodel**"
   ]
  },
  {
   "cell_type": "code",
   "execution_count": 9,
   "id": "25a51311-f6d0-4b58-adab-a6cf968c561c",
   "metadata": {},
   "outputs": [
    {
     "name": "stdout",
     "output_type": "stream",
     "text": [
      "✅ Found MLmodel at: mlruns/1/21748e5db3444097b591a8c3598ae73f/artifacts/models/MLmodel\n",
      "✅ Found MLmodel at: mlruns/1/0327e7e71ab54a13a8730da99c84f02f/artifacts/models/MLmodel\n"
     ]
    }
   ],
   "source": [
    "import os\n",
    "\n",
    "mlflow_dir = \"mlruns\"\n",
    "for root, dirs, files in os.walk(mlflow_dir):\n",
    "    for file in files:\n",
    "        if file == \"MLmodel\":\n",
    "            full_path = os.path.join(root, file)\n",
    "            print(\"✅ Found MLmodel at:\", full_path)"
   ]
  },
  {
   "cell_type": "markdown",
   "id": "6e7af670-8712-4e78-919d-804d848d0643",
   "metadata": {},
   "source": [
    "**Summary of the answers**"
   ]
  },
  {
   "cell_type": "code",
   "execution_count": 10,
   "id": "e47bcb13-8546-4c09-a5a6-2d13ed889124",
   "metadata": {},
   "outputs": [
    {
     "name": "stdout",
     "output_type": "stream",
     "text": [
      "✅ Final Answers Summary\n",
      "- Records loaded: 3,403,766\n",
      "- Records after prep: 3,316,216\n",
      "- Intercept: 24.75\n",
      "- RMSE: 8.15\n"
     ]
    }
   ],
   "source": [
    "print(f\"✅ Final Answers Summary\")\n",
    "print(f\"- Records loaded: {len(df):,}\")\n",
    "print(f\"- Records after prep: {len(df_clean):,}\")\n",
    "print(f\"- Intercept: {lr.intercept_:.2f}\")\n",
    "print(f\"- RMSE: {rmse:.2f}\")"
   ]
  },
  {
   "cell_type": "code",
   "execution_count": null,
   "id": "bb796a52-d569-475c-8b24-74c75d32ca7f",
   "metadata": {},
   "outputs": [],
   "source": []
  }
 ],
 "metadata": {
  "kernelspec": {
   "display_name": "Python 3 (ipykernel)",
   "language": "python",
   "name": "python3"
  },
  "language_info": {
   "codemirror_mode": {
    "name": "ipython",
    "version": 3
   },
   "file_extension": ".py",
   "mimetype": "text/x-python",
   "name": "python",
   "nbconvert_exporter": "python",
   "pygments_lexer": "ipython3",
   "version": "3.10.16"
  }
 },
 "nbformat": 4,
 "nbformat_minor": 5
}
